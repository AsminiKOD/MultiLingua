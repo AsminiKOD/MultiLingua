{
 "cells": [
  {
   "cell_type": "code",
   "execution_count": null,
   "id": "b7182430",
   "metadata": {},
   "outputs": [],
   "source": [
    "import openai\n",
    "from langchain_community.chat_models import ChatOpenAI\n",
    "from langchain_community.embeddings.openai import OpenAIEmbeddings\n",
    "from langchain_community.vectorstores import Chroma\n",
    "from langchain.text_splitter import RecursiveCharacterTextSplitter\n",
    "from langchain.chains import RetrievalQA\n",
    "from deep_translator import GoogleTranslator\n",
    "from langdetect import detect\n",
    "from langchain_core.documents import Document\n",
    "\n",
    "# Initialize LLM\n",
    "llm = ChatOpenAI(\n",
    "    openai_api_key=\"\",\n",
    "    temperature=0,\n",
    "    model_name=\"gpt-3.5-turbo\"\n",
    ")\n"
   ]
  },
  {
   "cell_type": "code",
   "execution_count": 65,
   "id": "c8194396",
   "metadata": {},
   "outputs": [],
   "source": [
    "translator = GoogleTranslator()\n",
    "\n",
    "def detect_language(text):\n",
    "    lang = detect(text)\n",
    "    print(f\"Detected language: {lang}\")\n",
    "    return lang\n",
    "\n",
    "def translate_text(text, target_lang):\n",
    "    return GoogleTranslator(source='auto', target=target_lang).translate(text)"
   ]
  },
  {
   "cell_type": "code",
   "execution_count": null,
   "id": "ea0fd9f5",
   "metadata": {},
   "outputs": [
    {
     "name": "stderr",
     "output_type": "stream",
     "text": [
      "Failed to send telemetry event ClientStartEvent: capture() takes 1 positional argument but 3 were given\n",
      "Failed to send telemetry event ClientCreateCollectionEvent: capture() takes 1 positional argument but 3 were given\n"
     ]
    }
   ],
   "source": [
    "from langchain.document_loaders import TextLoader\n",
    "\n",
    "# Example document loader (you can customize or load your files)\n",
    "loader = TextLoader('japanese_text.txt', encoding='utf-8')\n",
    "documents = loader.load()\n",
    "\n",
    "# Split text into chunks\n",
    "text_splitter = RecursiveCharacterTextSplitter(chunk_size=500, chunk_overlap=50)\n",
    "split_docs = text_splitter.split_documents(documents)\n",
    "\n",
    "translated_split_docs = []\n",
    "for doc in split_docs:\n",
    "    translated_text = GoogleTranslator(source='ja', target='en').translate(doc.page_content)\n",
    "    translated_split_docs.append(Document(page_content=translated_text, metadata=doc.metadata))\n",
    "\n",
    "# Generate Embeddings and Create Vector Store\n",
    "embeddings = OpenAIEmbeddings(openai_api_key=\"\")\n",
    "vector_store = Chroma.from_documents(translated_split_docs, embeddings)\n"
   ]
  },
  {
   "cell_type": "code",
   "execution_count": null,
   "id": "9a09c3f3",
   "metadata": {},
   "outputs": [],
   "source": [
    "# from langchain_community.document_loaders import PyMuPDFLoader\n",
    "# from langchain_community.document_loaders import UnstructuredPDFLoader\n",
    "\n",
    "\n",
    "# # Initialize PDF loader\n",
    "# pdf_loader = UnstructuredPDFLoader('gce-advance-level-exam-2024-sinhala-past-papers-67767260c5c2c.pdf')\n",
    "# pdf_documents = pdf_loader.load()\n",
    "\n",
    "# # Split PDF into chunks\n",
    "# text_splitter = RecursiveCharacterTextSplitter(chunk_size=500, chunk_overlap=50)\n",
    "# split_pdf_docs = text_splitter.split_documents(pdf_documents)\n",
    "\n",
    "# # Initialize OpenAI embeddings\n",
    "# embeddings = OpenAIEmbeddings(openai_api_key=\"\")\n",
    "\n",
    "# # Create vector store from PDF chunks\n",
    "# vector_store = Chroma.from_documents(split_pdf_docs, embeddings)\n"
   ]
  },
  {
   "cell_type": "code",
   "execution_count": 68,
   "id": "da770fe7",
   "metadata": {},
   "outputs": [],
   "source": [
    "retriever = vector_store.as_retriever()\n",
    "\n",
    "qa_chain = RetrievalQA.from_chain_type(\n",
    "    llm=llm,\n",
    "    chain_type=\"stuff\",\n",
    "    retriever=retriever\n",
    ")"
   ]
  },
  {
   "cell_type": "code",
   "execution_count": 69,
   "id": "af2cf06a",
   "metadata": {},
   "outputs": [],
   "source": [
    "\n",
    "def translate_text(text, target_lang):\n",
    "    return GoogleTranslator(source='auto', target=target_lang).translate(text)\n",
    "\n",
    "def detect_language(text):\n",
    "    try:\n",
    "        return detect(text)\n",
    "    except Exception:\n",
    "        return \"en\"  # fallback if detection fails\n",
    "\n",
    "def multi_language_qa(user_question):\n",
    "    try:\n",
    "        # Detect user's language\n",
    "        input_lang = detect_language(user_question)\n",
    "\n",
    "        # Translate question to English for RAG\n",
    "        question_in_english = translate_text(user_question, \"en\")\n",
    "        print(f\"Translated Question to English: {question_in_english}\")\n",
    "\n",
    "        # Get answer from QA system\n",
    "        answer_in_english = qa_chain.run(question_in_english)\n",
    "        print(f\"Answer in English: {answer_in_english}\")\n",
    "\n",
    "        # Always translate answer back to user's language\n",
    "        translated_answer = translate_text(answer_in_english, input_lang)\n",
    "        return translated_answer\n",
    "\n",
    "    except Exception as e:\n",
    "        return f\"Error during QA: {str(e)}\"\n"
   ]
  },
  {
   "cell_type": "code",
   "execution_count": 71,
   "id": "94ab1b9b",
   "metadata": {},
   "outputs": [
    {
     "name": "stdout",
     "output_type": "stream",
     "text": [
      "Translated Question to English: What is the meaning of this text?\n",
      "Answer in English: The text is a repeated message in both English and Japanese, inviting the reader to learn about artificial intelligence and machine learning.\n",
      "Answer: El texto es un mensaje repetido tanto en inglés como en japonés, invitando al lector a aprender sobre inteligencia artificial y aprendizaje automático.\n"
     ]
    }
   ],
   "source": [
    "question = \"¿Cuál es el significado de este texto?\"\n",
    "result = multi_language_qa(question) \n",
    "print(\"Answer:\", result)\n"
   ]
  }
 ],
 "metadata": {
  "kernelspec": {
   "display_name": ".venv",
   "language": "python",
   "name": "python3"
  },
  "language_info": {
   "codemirror_mode": {
    "name": "ipython",
    "version": 3
   },
   "file_extension": ".py",
   "mimetype": "text/x-python",
   "name": "python",
   "nbconvert_exporter": "python",
   "pygments_lexer": "ipython3",
   "version": "3.10.11"
  }
 },
 "nbformat": 4,
 "nbformat_minor": 5
}
